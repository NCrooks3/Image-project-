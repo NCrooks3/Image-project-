{
 "cells": [
  {
   "cell_type": "code",
   "execution_count": 2,
   "id": "98e093c6-d955-4afd-9d7e-f71a3a7b7bc0",
   "metadata": {},
   "outputs": [
    {
     "ename": "error",
     "evalue": "OpenCV(4.10.0) /Users/xperience/GHA-Actions-OpenCV/_work/opencv-python/opencv-python/opencv/modules/imgproc/src/hough.cpp:2282: error: (-211:One of the arguments' values is out of range) acc_threshold must be a positive number in function 'HoughCircles'\n",
     "output_type": "error",
     "traceback": [
      "\u001b[0;31m---------------------------------------------------------------------------\u001b[0m",
      "\u001b[0;31merror\u001b[0m                                     Traceback (most recent call last)",
      "Cell \u001b[0;32mIn[2], line 31\u001b[0m\n\u001b[1;32m     28\u001b[0m max_radius \u001b[38;5;241m=\u001b[39m cv\u001b[38;5;241m.\u001b[39mgetTrackbarPos(\u001b[38;5;124m'\u001b[39m\u001b[38;5;124mMax Radius\u001b[39m\u001b[38;5;124m'\u001b[39m, \u001b[38;5;124m'\u001b[39m\u001b[38;5;124mCircle Detection\u001b[39m\u001b[38;5;124m'\u001b[39m)\n\u001b[1;32m     30\u001b[0m \u001b[38;5;66;03m# Detect circles\u001b[39;00m\n\u001b[0;32m---> 31\u001b[0m circles \u001b[38;5;241m=\u001b[39m cv\u001b[38;5;241m.\u001b[39mHoughCircles(img, cv\u001b[38;5;241m.\u001b[39mHOUGH_GRADIENT, \u001b[38;5;241m1\u001b[39m, \u001b[38;5;241m50\u001b[39m,\n\u001b[1;32m     32\u001b[0m                           param1\u001b[38;5;241m=\u001b[39mparam1, param2\u001b[38;5;241m=\u001b[39mparam2,\n\u001b[1;32m     33\u001b[0m                           minRadius\u001b[38;5;241m=\u001b[39mmin_radius, maxRadius\u001b[38;5;241m=\u001b[39mmax_radius)\n\u001b[1;32m     35\u001b[0m \u001b[38;5;66;03m# Make a copy of the image to draw on\u001b[39;00m\n\u001b[1;32m     36\u001b[0m display_img \u001b[38;5;241m=\u001b[39m cimg\u001b[38;5;241m.\u001b[39mcopy()\n",
      "\u001b[0;31merror\u001b[0m: OpenCV(4.10.0) /Users/xperience/GHA-Actions-OpenCV/_work/opencv-python/opencv-python/opencv/modules/imgproc/src/hough.cpp:2282: error: (-211:One of the arguments' values is out of range) acc_threshold must be a positive number in function 'HoughCircles'\n"
     ]
    }
   ],
   "source": [
    "import matplotlib.pyplot as plt\n",
    "import matplotlib.image as mpimg\n",
    "import numpy as np\n",
    "import cv2 as cv\n",
    "\n",
    "def nothing(x):\n",
    "    pass\n",
    "\n",
    "# Load the grayscale image\n",
    "img = cv.imread('Crater (lat and lon).png', cv.IMREAD_GRAYSCALE)\n",
    "assert img is not None, \"File could not be read, check with os.path.exists()\"\n",
    "\n",
    "img = cv.medianBlur(img, 5)\n",
    "cimg = cv.cvtColor(img, cv.COLOR_GRAY2BGR)\n",
    "\n",
    "# Create a window and trackbars for parameter adjustment\n",
    "cv.namedWindow('Circle Detection')\n",
    "cv.createTrackbar('Param1', 'Circle Detection', 30, 100, nothing)\n",
    "cv.createTrackbar('Param2', 'Circle Detection', 20, 100, nothing)\n",
    "cv.createTrackbar('Min Radius', 'Circle Detection', 2, 100, nothing)\n",
    "cv.createTrackbar('Max Radius', 'Circle Detection', 40, 100, nothing)\n",
    "\n",
    "while True:\n",
    "    # Get current positions of trackbars\n",
    "    param1 = cv.getTrackbarPos('Param1', 'Circle Detection')\n",
    "    param2 = cv.getTrackbarPos('Param2', 'Circle Detection')\n",
    "    min_radius = cv.getTrackbarPos('Min Radius', 'Circle Detection')\n",
    "    max_radius = cv.getTrackbarPos('Max Radius', 'Circle Detection')\n",
    "    \n",
    "    # Detect circles\n",
    "    circles = cv.HoughCircles(img, cv.HOUGH_GRADIENT, 1, 50,\n",
    "                              param1=param1, param2=param2,\n",
    "                              minRadius=min_radius, maxRadius=max_radius)\n",
    "    \n",
    "    # Make a copy of the image to draw on\n",
    "    display_img = cimg.copy()\n",
    "    \n",
    "    if circles is not None:\n",
    "        circles = np.uint16(np.around(circles))\n",
    "        for i in circles[0, :]:\n",
    "            # Draw the outer circle\n",
    "            cv.circle(display_img, (i[0], i[1]), i[2], (0, 255, 0), 2)\n",
    "            # Draw the center of the circle\n",
    "            cv.circle(display_img, (i[0], i[1]), 2, (0, 0, 255), 3)\n",
    "    else:\n",
    "        print(\"No circles were found.\")\n",
    "\n",
    "    # Show the result\n",
    "    cv.imshow('Circle Detection', display_img)\n",
    "    \n",
    "    # Exit if 'q' is pressed\n",
    "    if cv.waitKey(1) & 0xFF == ord('q'):\n",
    "        break\n",
    "\n",
    "cv.destroyAllWindows()\n"
   ]
  },
  {
   "cell_type": "code",
   "execution_count": null,
   "id": "fb6aeed5-3254-4625-ab7c-27b45c0f776a",
   "metadata": {},
   "outputs": [],
   "source": []
  }
 ],
 "metadata": {
  "kernelspec": {
   "display_name": "Python 3 (ipykernel)",
   "language": "python",
   "name": "python3"
  },
  "language_info": {
   "codemirror_mode": {
    "name": "ipython",
    "version": 3
   },
   "file_extension": ".py",
   "mimetype": "text/x-python",
   "name": "python",
   "nbconvert_exporter": "python",
   "pygments_lexer": "ipython3",
   "version": "3.12.7"
  }
 },
 "nbformat": 4,
 "nbformat_minor": 5
}
