{
 "cells": [
  {
   "cell_type": "code",
   "execution_count": 8,
   "id": "98e093c6-d955-4afd-9d7e-f71a3a7b7bc0",
   "metadata": {},
   "outputs": [
    {
     "data": {
      "text/plain": [
       "-1"
      ]
     },
     "execution_count": 8,
     "metadata": {},
     "output_type": "execute_result"
    }
   ],
   "source": [
    "import matplotlib.pyplot as plt\n",
    "import matplotlib.image as mpimg\n",
    "import numpy as np\n",
    "import cv2 as cv\n",
    "import time\n",
    "\n",
    "def nothing(x):\n",
    "    pass\n",
    "\n",
    "# Load the grayscale image\n",
    "img = cv.imread('MC-02.png', cv.IMREAD_GRAYSCALE)\n",
    "#img = cv.imread('Moon craters.png', cv.IMREAD_GRAYSCALE)\n",
    "\n",
    "\n",
    "#img = cv.medianBlur(img, 9)\n",
    "#img = cv.GaussianBlur(img,ksize=(5,5),sigmaX=0, sigmaY=None)\n",
    "cimg = cv.cvtColor(img, cv.COLOR_GRAY2BGR)\n",
    "\n",
    "# Create a window and trackbars for parameter adjustment\n",
    "cv.namedWindow('Crater Detection GUI')\n",
    "#cv.createTrackbar('Min Dist', 'Circle Detection', 90, 100, nothing)\n",
    "cv.createTrackbar('Param1', 'Crater Detection GUI', 40, 100, nothing)\n",
    "cv.createTrackbar('Param2', 'Crater Detection GUI', 5, 100, nothing)\n",
    "cv.createTrackbar('Min Radius', 'Crater Detection GUI', 0, 100, nothing)\n",
    "cv.createTrackbar('Max Radius', 'Crater Detection GUI', 45, 100, nothing)\n",
    "\n",
    "while True:\n",
    "    # Sets initial values of trackbars\n",
    "    #min_dist = cv.getTrackbarPos('Min Dist', 'Circle Detection')\n",
    "    param1 = cv.getTrackbarPos('Param1', 'Crater Detection GUI')\n",
    "    param2 = cv.getTrackbarPos('Param2', 'Crater Detection GUI')\n",
    "    min_radius = cv.getTrackbarPos('Min Radius', 'Crater Detection GUI')\n",
    "    max_radius = cv.getTrackbarPos('Max Radius', 'Crater Detection GUI')\n",
    "    \n",
    "    # Detect craters\n",
    "    craters = cv.HoughCircles(img, cv.HOUGH_GRADIENT, 1,20,\n",
    "                              param1=param1, param2=param2,\n",
    "                              minRadius=2, maxRadius=55)\n",
    "    \n",
    "    # Make a copy of the image to draw on\n",
    "    draw_img = cimg.copy()\n",
    "    \n",
    "    \n",
    "    craters = np.uint16(np.around(craters))\n",
    "    for i in craters[0, :]:\n",
    "        # Draw the outer circle\n",
    "        #cv.circle(draw_img, (i[0], i[1]), i[2], (0, 255, 0), 2)\n",
    "        # Draw the center of the circle\n",
    "        cv.circle(draw_img, (i[0], i[1]), 2, (0, 255, 0), 3)\n",
    "\n",
    "    # Shows the resulting plot with crater centres in green\n",
    "    #time.sleep(0.1)\n",
    "    cv.imshow('Crater Detection GUI', draw_img)\n",
    "    \n",
    "    # Exits window when 'e' is pressed\n",
    "    if cv.waitKey(1) & 0xFF == ord('e'):\n",
    "        break\n",
    "\n",
    "cv.destroyAllWindows()\n",
    "cv.waitKey(1)\n",
    "\n"
   ]
  },
  {
   "cell_type": "code",
   "execution_count": 28,
   "id": "fb6aeed5-3254-4625-ab7c-27b45c0f776a",
   "metadata": {},
   "outputs": [
    {
     "name": "stdout",
     "output_type": "stream",
     "text": [
      "(1228, 2100)\n",
      "(1, 1798, 3)\n",
      "1798\n"
     ]
    }
   ],
   "source": [
    "\n",
    "print(img.shape)\n",
    "\n",
    "print(craters.shape)\n",
    "print(craters.shape[1]) #Gives number of craters detected \n",
    "\n"
   ]
  },
  {
   "cell_type": "code",
   "execution_count": null,
   "id": "47274ff6-d8fb-432e-9eb4-dced82af55c0",
   "metadata": {},
   "outputs": [],
   "source": []
  }
 ],
 "metadata": {
  "kernelspec": {
   "display_name": "Python 3 (ipykernel)",
   "language": "python",
   "name": "python3"
  },
  "language_info": {
   "codemirror_mode": {
    "name": "ipython",
    "version": 3
   },
   "file_extension": ".py",
   "mimetype": "text/x-python",
   "name": "python",
   "nbconvert_exporter": "python",
   "pygments_lexer": "ipython3",
   "version": "3.12.7"
  }
 },
 "nbformat": 4,
 "nbformat_minor": 5
}
