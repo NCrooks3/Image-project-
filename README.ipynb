{
 "cells": [
  {
   "cell_type": "code",
   "execution_count": null,
   "id": "41f875e9-19ff-4c85-bedd-9e97bf71a6bf",
   "metadata": {},
   "outputs": [],
   "source": [
    "READ ME\n",
    "All 28 images need to be loaded into the same directory as the code running.\n",
    "    \n",
    "Sphere plot with heat map rectangles:\n",
    "\n",
    "Crater Density Code:\n",
    "All the cells run in chronological order.\n",
    "Images function is applied to needs to be commented in and the previous image needs to be commented out.\n",
    "After changing the parameters, press q to store data and close the window.\n",
    "Parameters are set for ideal data collection to begin with.\n",
    "Image area changes across the images. Ensure the correct image area is defined in hte second cell for its corresponding image."
   ]
  }
 ],
 "metadata": {
  "kernelspec": {
   "display_name": "Python 3 (ipykernel)",
   "language": "python",
   "name": "python3"
  },
  "language_info": {
   "codemirror_mode": {
    "name": "ipython",
    "version": 3
   },
   "file_extension": ".py",
   "mimetype": "text/x-python",
   "name": "python",
   "nbconvert_exporter": "python",
   "pygments_lexer": "ipython3",
   "version": "3.12.4"
  }
 },
 "nbformat": 4,
 "nbformat_minor": 5
}
